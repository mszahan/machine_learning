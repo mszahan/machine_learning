{
 "cells": [
  {
   "cell_type": "markdown",
   "metadata": {},
   "source": [
    "1. solving equation with np. here is the equation....\n",
    "$$\\begin{cases} \n",
    "-x_1+3x_2=7, \\\\ 3x_1+2x_2=1, \\end{cases}\\tag{1}$$\n",
    "\n",
    "**To solve this you need two array `A` and `b`**\n",
    "- $A$ is a matrix, each row of which represents one equation in the system and each column corresponds to the variable. Here `A` will be $\\begin{bmatrix}\n",
    "-1 & 3 \\\\\n",
    "3 & 2 \n",
    "\\end{bmatrix}$\n",
    "- $b$ is a 1-D array of the free (right side) coefficients. Here `b` will be $\\begin{bmatrix}\n",
    " 7 \\\\\n",
    " 1\n",
    "\\end{bmatrix}$\n",
    "\n"
   ]
  },
  {
   "cell_type": "code",
   "execution_count": 1,
   "metadata": {},
   "outputs": [
    {
     "name": "stdout",
     "output_type": "stream",
     "text": [
      "the solution of x1 and x2 is:  [-1.  2.]\n"
     ]
    }
   ],
   "source": [
    "import numpy as np\n",
    "\n",
    "A = np.array([[-1, 3], [3, 2]])\n",
    "b = np.array([7, 1])\n",
    "\n",
    "x = np.linalg.solve(A, b)\n",
    "print('the solution of x1 and x2 is: ', x)\n"
   ]
  },
  {
   "cell_type": "markdown",
   "metadata": {},
   "source": [
    "2. Finding the determinant"
   ]
  },
  {
   "cell_type": "code",
   "execution_count": 4,
   "metadata": {},
   "outputs": [
    {
     "name": "stdout",
     "output_type": "stream",
     "text": [
      "the determinant of A is: -11.00\n"
     ]
    }
   ],
   "source": [
    "determinant = np.linalg.det(A)\n",
    "print(f'the determinant of A is: {determinant:.2f}' )"
   ]
  },
  {
   "cell_type": "markdown",
   "metadata": {},
   "source": [
    "<a name='3'></a>\n",
    "## 3 - System of Linear Equations with No Solutions\n",
    "\n",
    "Given another system of linear equations:\n",
    "\n",
    "$$\\begin{cases} \n",
    "-x_1+3x_2=7, \\\\ 3x_1-9x_2=1, \\end{cases}\\tag{5}$$\n",
    "\n",
    "let's find the determinant of the corresponding matrix."
   ]
  },
  {
   "cell_type": "code",
   "execution_count": 5,
   "metadata": {},
   "outputs": [
    {
     "name": "stdout",
     "output_type": "stream",
     "text": [
      "the determinant of A_2 is: 0.00\n"
     ]
    }
   ],
   "source": [
    "A_2 = np.array([\n",
    "    [-1, 3],\n",
    "    [3, -9]\n",
    "], dtype=np.dtype(float))\n",
    "\n",
    "b_2 = np.array([7, 1], dtype=np.dtype(float))\n",
    "\n",
    "deternminant_2 = np.linalg.det(A_2)\n",
    "print(f'the determinant of A_2 is: {deternminant_2:.2f}')"
   ]
  },
  {
   "cell_type": "code",
   "execution_count": 6,
   "metadata": {},
   "outputs": [
    {
     "name": "stdout",
     "output_type": "stream",
     "text": [
      "Error: Singular matrix\n"
     ]
    }
   ],
   "source": [
    "try:\n",
    "    x_2 = np.linalg.solve(A_2, b_2)\n",
    "    print('the solution of x1 and x2 is: ', x_2)\n",
    "except np.linalg.LinAlgError as err:\n",
    "    print(f'Error: {err}')\n"
   ]
  }
 ],
 "metadata": {
  "kernelspec": {
   "display_name": "mlv",
   "language": "python",
   "name": "python3"
  },
  "language_info": {
   "codemirror_mode": {
    "name": "ipython",
    "version": 3
   },
   "file_extension": ".py",
   "mimetype": "text/x-python",
   "name": "python",
   "nbconvert_exporter": "python",
   "pygments_lexer": "ipython3",
   "version": "3.10.12"
  }
 },
 "nbformat": 4,
 "nbformat_minor": 2
}
