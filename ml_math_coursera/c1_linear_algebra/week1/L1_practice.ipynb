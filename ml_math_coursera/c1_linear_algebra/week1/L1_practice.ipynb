{
 "cells": [
  {
   "cell_type": "markdown",
   "metadata": {},
   "source": [
    "## Self practice of numpy"
   ]
  },
  {
   "cell_type": "markdown",
   "metadata": {},
   "source": [
    "1. Simple array"
   ]
  },
  {
   "cell_type": "code",
   "execution_count": 2,
   "metadata": {},
   "outputs": [],
   "source": [
    "import numpy as np"
   ]
  },
  {
   "cell_type": "code",
   "execution_count": 7,
   "metadata": {},
   "outputs": [
    {
     "name": "stdout",
     "output_type": "stream",
     "text": [
      "[1 5 4 3]\n"
     ]
    }
   ],
   "source": [
    "simple_array = np.array([1, 5, 4, 3])\n",
    "print(simple_array)"
   ]
  },
  {
   "cell_type": "markdown",
   "metadata": {},
   "source": [
    "1.1 simple array with datatype"
   ]
  },
  {
   "cell_type": "code",
   "execution_count": 8,
   "metadata": {},
   "outputs": [
    {
     "name": "stdout",
     "output_type": "stream",
     "text": [
      "[5. 7. 9. 8.]\n"
     ]
    }
   ],
   "source": [
    "dtype_array = np.array([5, 7,9, 8], dtype=float)\n",
    "print(dtype_array)\n"
   ]
  },
  {
   "cell_type": "markdown",
   "metadata": {},
   "source": [
    "2. Array with `arange`"
   ]
  },
  {
   "cell_type": "code",
   "execution_count": 10,
   "metadata": {},
   "outputs": [
    {
     "name": "stdout",
     "output_type": "stream",
     "text": [
      "[ 0  4  8 12 16]\n"
     ]
    }
   ],
   "source": [
    "arange_array = np.arange(0, 20, 4)\n",
    "print(arange_array)"
   ]
  },
  {
   "cell_type": "markdown",
   "metadata": {},
   "source": [
    "3. Array with `linspace`"
   ]
  },
  {
   "cell_type": "code",
   "execution_count": 11,
   "metadata": {},
   "outputs": [
    {
     "name": "stdout",
     "output_type": "stream",
     "text": [
      "[  0  33  66 100]\n"
     ]
    }
   ],
   "source": [
    "line_array = np.linspace(0, 100, 4, dtype=int)\n",
    "print(line_array)"
   ]
  },
  {
   "cell_type": "markdown",
   "metadata": {},
   "source": [
    "4. array with `ones`\n"
   ]
  },
  {
   "cell_type": "code",
   "execution_count": 14,
   "metadata": {},
   "outputs": [
    {
     "name": "stdout",
     "output_type": "stream",
     "text": [
      "[1. 1. 1.]\n",
      "ones with 2 parameters 3,4\n",
      "[[1 1 1 1]\n",
      " [1 1 1 1]\n",
      " [1 1 1 1]]\n"
     ]
    }
   ],
   "source": [
    "one_array = np.ones(3)\n",
    "print(one_array)\n",
    "\n",
    "# try 2 parameters\n",
    "print('ones with 2 parameters 3,4')\n",
    "two_array = np.ones((3, 4), dtype=int)\n",
    "print(two_array)"
   ]
  },
  {
   "cell_type": "markdown",
   "metadata": {},
   "source": [
    "5. array with `zero`"
   ]
  },
  {
   "cell_type": "code",
   "execution_count": 15,
   "metadata": {},
   "outputs": [
    {
     "name": "stdout",
     "output_type": "stream",
     "text": [
      "[0. 0. 0. 0.]\n"
     ]
    }
   ],
   "source": [
    "zero_arry = np.zeros(4)\n",
    "print(zero_arry)"
   ]
  },
  {
   "cell_type": "markdown",
   "metadata": {},
   "source": [
    "6. array with `empty`"
   ]
  },
  {
   "cell_type": "code",
   "execution_count": 19,
   "metadata": {},
   "outputs": [
    {
     "name": "stdout",
     "output_type": "stream",
     "text": [
      "[0.e+000 2.e-323 4.e-323 6.e-323 8.e-323]\n"
     ]
    }
   ],
   "source": [
    "empty_array = np.empty(5)\n",
    "print(empty_array)"
   ]
  },
  {
   "cell_type": "markdown",
   "metadata": {},
   "source": [
    "7. array with `random` value"
   ]
  },
  {
   "cell_type": "code",
   "execution_count": 3,
   "metadata": {},
   "outputs": [
    {
     "name": "stdout",
     "output_type": "stream",
     "text": [
      "[0.78602805 0.57585871 0.65490336]\n"
     ]
    }
   ],
   "source": [
    "random_arry = np.random.rand(3)\n",
    "print(random_arry)"
   ]
  },
  {
   "cell_type": "markdown",
   "metadata": {},
   "source": [
    "8. Converting one dimentional array to multidimentional with `reshape`"
   ]
  },
  {
   "cell_type": "code",
   "execution_count": 4,
   "metadata": {},
   "outputs": [
    {
     "name": "stdout",
     "output_type": "stream",
     "text": [
      "[[1 2 3]\n",
      " [4 5 6]]\n"
     ]
    }
   ],
   "source": [
    "one_dimen_array = np.array([1, 2, 3, 4, 5 , 6])\n",
    "multidimen_arry = one_dimen_array.reshape(2, 3)\n",
    "print(multidimen_arry)"
   ]
  },
  {
   "cell_type": "markdown",
   "metadata": {},
   "source": [
    "9. cheking `dimention` `shape` and `size` of array\n",
    "- `ndim` shows the dimention of the array\n",
    "- `shape` shows the number of rows and colums in an array\n",
    "- `size` shows the total number of elements of the array, including sub arrays"
   ]
  },
  {
   "cell_type": "code",
   "execution_count": 6,
   "metadata": {},
   "outputs": [
    {
     "name": "stdout",
     "output_type": "stream",
     "text": [
      "the dimention of the array: 2\n",
      "the shape of the array: (2, 3)\n",
      "the size of the array: 6\n"
     ]
    }
   ],
   "source": [
    "print('the dimention of the array:', multidimen_arry.ndim)\n",
    "print('the shape of the array:', multidimen_arry.shape)\n",
    "print('the size of the array:', multidimen_arry.size)"
   ]
  },
  {
   "cell_type": "markdown",
   "metadata": {},
   "source": [
    "10. Doing math operation on np array (math operation work differently in np array than list of python)"
   ]
  },
  {
   "cell_type": "code",
   "execution_count": 7,
   "metadata": {},
   "outputs": [
    {
     "name": "stdout",
     "output_type": "stream",
     "text": [
      "addition: [3 6 9]\n",
      "subtraction: [1 2 3]\n",
      "multiplication: [ 2  8 18]\n",
      "division: [2. 2. 2.]\n"
     ]
    }
   ],
   "source": [
    "a = np.array([2, 4, 6])\n",
    "b = np.array([1, 2, 3])\n",
    "\n",
    "print('addition:', a + b)\n",
    "print('subtraction:', a - b)\n",
    "print('multiplication:', a * b)\n",
    "print('division:', a / b)"
   ]
  },
  {
   "cell_type": "markdown",
   "metadata": {},
   "source": [
    "11. **Broadcasting**  allows you to perform operations specifically on arrays of different shapes\n"
   ]
  },
  {
   "cell_type": "code",
   "execution_count": 8,
   "metadata": {},
   "outputs": [
    {
     "name": "stdout",
     "output_type": "stream",
     "text": [
      "km: [1.6 3.2 4.8]\n"
     ]
    }
   ],
   "source": [
    "mile_array = np.array([1, 2, 3])\n",
    "km_arrya = mile_array * 1.6\n",
    "\n",
    "print('km:', km_arrya)\n"
   ]
  },
  {
   "cell_type": "markdown",
   "metadata": {},
   "source": [
    "12. Indexing and slicing one dimentional array\n",
    "\n",
    "The syntax is:\n",
    "\n",
    "`array[start:end:step]`"
   ]
  },
  {
   "cell_type": "code",
   "execution_count": 9,
   "metadata": {},
   "outputs": [
    {
     "name": "stdout",
     "output_type": "stream",
     "text": [
      "the first element: 1\n",
      "the last element: 6\n",
      "the first 3 elements: [1 2 3]\n",
      "last elemtent except first three: [4 5 6]\n",
      "get all with 2 interval: [1 3 5]\n"
     ]
    }
   ],
   "source": [
    "one_dim_array = np.array([1, 2, 3, 4, 5, 6])\n",
    "\n",
    "print('the first element:', one_dim_array[0])\n",
    "print('the last element:', one_dim_array[-1])\n",
    "print('the first 3 elements:', one_dim_array[:3])\n",
    "print('last elemtent except first three:', one_dim_array[3:])\n",
    "print('get all with 2 interval:', one_dim_array[::2])"
   ]
  },
  {
   "cell_type": "markdown",
   "metadata": {},
   "source": [
    "13. Getting specific indexed element from two dimentional array"
   ]
  },
  {
   "cell_type": "code",
   "execution_count": 10,
   "metadata": {},
   "outputs": [
    {
     "name": "stdout",
     "output_type": "stream",
     "text": [
      "print every second element [2 5 8]\n"
     ]
    }
   ],
   "source": [
    "two_dime_array = np.array([[1, 2, 3], [4, 5, 6], [7, 8, 9]])\n",
    "print('print every second element',two_dime_array[:, 1])"
   ]
  },
  {
   "cell_type": "markdown",
   "metadata": {},
   "source": [
    "Stacking\n"
   ]
  },
  {
   "cell_type": "code",
   "execution_count": 11,
   "metadata": {},
   "outputs": [
    {
     "name": "stdout",
     "output_type": "stream",
     "text": [
      "array 1: [[1 1]\n",
      " [2 2]]\n",
      "array 2: [[3 3]\n",
      " [4 4]]\n"
     ]
    }
   ],
   "source": [
    "a1 = np.array([[1, 1], [2, 2]])\n",
    "a2 = np.array([[3, 3], [4, 4]])\n",
    "print('array 1:', a1)\n",
    "print('array 2:', a2)"
   ]
  },
  {
   "cell_type": "markdown",
   "metadata": {},
   "source": [
    "14. `np.vstack()` - stacks vertically - you need to pass like tuple within another parenthesis\n"
   ]
  },
  {
   "cell_type": "code",
   "execution_count": 13,
   "metadata": {},
   "outputs": [
    {
     "name": "stdout",
     "output_type": "stream",
     "text": [
      "vertically stack: [[1 1]\n",
      " [2 2]\n",
      " [3 3]\n",
      " [4 4]]\n"
     ]
    }
   ],
   "source": [
    "vertically_stack = np.vstack((a1, a2))\n",
    "print('vertically stack:', vertically_stack)"
   ]
  },
  {
   "cell_type": "markdown",
   "metadata": {},
   "source": [
    "15. `np.hstack()` - stacks horizontally"
   ]
  },
  {
   "cell_type": "code",
   "execution_count": 14,
   "metadata": {},
   "outputs": [
    {
     "name": "stdout",
     "output_type": "stream",
     "text": [
      "horizontally stack: [[1 1 3 3]\n",
      " [2 2 4 4]]\n"
     ]
    }
   ],
   "source": [
    "horizontally_stack = np.hstack((a1, a2))\n",
    "print('horizontally stack:', horizontally_stack)"
   ]
  },
  {
   "cell_type": "markdown",
   "metadata": {},
   "source": [
    "16. `np.hsplit()` - splits an array into several smaller arrays - only 3 worked\n"
   ]
  },
  {
   "cell_type": "code",
   "execution_count": 17,
   "metadata": {},
   "outputs": [
    {
     "name": "stdout",
     "output_type": "stream",
     "text": [
      "split array: [array([1, 2, 3]), array([4, 5, 6]), array([7, 8, 9])]\n"
     ]
    }
   ],
   "source": [
    "array_to_split = np.array([1, 2, 3, 4, 5, 6, 7, 8, 9])\n",
    "split_array = np.hsplit(array_to_split, 3)\n",
    "\n",
    "print('split array:', split_array)"
   ]
  }
 ],
 "metadata": {
  "kernelspec": {
   "display_name": "mlv",
   "language": "python",
   "name": "python3"
  },
  "language_info": {
   "codemirror_mode": {
    "name": "ipython",
    "version": 3
   },
   "file_extension": ".py",
   "mimetype": "text/x-python",
   "name": "python",
   "nbconvert_exporter": "python",
   "pygments_lexer": "ipython3",
   "version": "3.10.12"
  }
 },
 "nbformat": 4,
 "nbformat_minor": 2
}
