{
 "cells": [
  {
   "cell_type": "markdown",
   "id": "11963cc7",
   "metadata": {},
   "source": [
    "# Working with Regression Trees in Python\n",
    "\n",
    "## Learning Objectives\n",
    "Decision Trees are one of the most popular approaches to supervised machine learning. Decison Trees use an inverted tree-like structure to model the relationship between independent variables and a dependent variable. A tree with a continuous dependent variable is known as a **Regression Tree**. By the end of this tutorial, you will have learned:\n",
    "\n",
    "+ How to import, explore and prepare data\n",
    "+ How to build a Regression Tree model\n",
    "+ How to visualize the structure of a Regression Tree\n",
    "+ How to Prune a Regression Tree "
   ]
  },
  {
   "cell_type": "markdown",
   "id": "2887bb87",
   "metadata": {},
   "source": [
    "## 1. Collect the Data"
   ]
  },
  {
   "cell_type": "code",
   "execution_count": 1,
   "id": "046f5901",
   "metadata": {},
   "outputs": [
    {
     "data": {
      "text/html": [
       "<div>\n",
       "<style scoped>\n",
       "    .dataframe tbody tr th:only-of-type {\n",
       "        vertical-align: middle;\n",
       "    }\n",
       "\n",
       "    .dataframe tbody tr th {\n",
       "        vertical-align: top;\n",
       "    }\n",
       "\n",
       "    .dataframe thead th {\n",
       "        text-align: right;\n",
       "    }\n",
       "</style>\n",
       "<table border=\"1\" class=\"dataframe\">\n",
       "  <thead>\n",
       "    <tr style=\"text-align: right;\">\n",
       "      <th></th>\n",
       "      <th>Age</th>\n",
       "      <th>Education</th>\n",
       "      <th>Salary</th>\n",
       "    </tr>\n",
       "  </thead>\n",
       "  <tbody>\n",
       "    <tr>\n",
       "      <th>0</th>\n",
       "      <td>25</td>\n",
       "      <td>Bachelors</td>\n",
       "      <td>43.9</td>\n",
       "    </tr>\n",
       "    <tr>\n",
       "      <th>1</th>\n",
       "      <td>30</td>\n",
       "      <td>Bachelors</td>\n",
       "      <td>54.4</td>\n",
       "    </tr>\n",
       "    <tr>\n",
       "      <th>2</th>\n",
       "      <td>45</td>\n",
       "      <td>Bachelors</td>\n",
       "      <td>62.5</td>\n",
       "    </tr>\n",
       "    <tr>\n",
       "      <th>3</th>\n",
       "      <td>55</td>\n",
       "      <td>Bachelors</td>\n",
       "      <td>72.5</td>\n",
       "    </tr>\n",
       "    <tr>\n",
       "      <th>4</th>\n",
       "      <td>65</td>\n",
       "      <td>Bachelors</td>\n",
       "      <td>74.6</td>\n",
       "    </tr>\n",
       "  </tbody>\n",
       "</table>\n",
       "</div>"
      ],
      "text/plain": [
       "   Age  Education  Salary\n",
       "0   25  Bachelors    43.9\n",
       "1   30  Bachelors    54.4\n",
       "2   45  Bachelors    62.5\n",
       "3   55  Bachelors    72.5\n",
       "4   65  Bachelors    74.6"
      ]
     },
     "execution_count": 1,
     "metadata": {},
     "output_type": "execute_result"
    }
   ],
   "source": [
    "import pandas as pd\n",
    "income = pd.read_csv(\"income.csv\")\n",
    "income.head()"
   ]
  },
  {
   "cell_type": "markdown",
   "id": "e6095cae",
   "metadata": {},
   "source": [
    "## 2. Explore the Data"
   ]
  },
  {
   "cell_type": "code",
   "execution_count": 2,
   "id": "67de73e2",
   "metadata": {},
   "outputs": [
    {
     "name": "stdout",
     "output_type": "stream",
     "text": [
      "<class 'pandas.core.frame.DataFrame'>\n",
      "RangeIndex: 30 entries, 0 to 29\n",
      "Data columns (total 3 columns):\n",
      " #   Column     Non-Null Count  Dtype  \n",
      "---  ------     --------------  -----  \n",
      " 0   Age        30 non-null     int64  \n",
      " 1   Education  30 non-null     object \n",
      " 2   Salary     30 non-null     float64\n",
      "dtypes: float64(1), int64(1), object(1)\n",
      "memory usage: 848.0+ bytes\n"
     ]
    }
   ],
   "source": [
    "income.info()"
   ]
  },
  {
   "cell_type": "code",
   "execution_count": 3,
   "id": "acdf6ca5",
   "metadata": {},
   "outputs": [
    {
     "data": {
      "text/html": [
       "<div>\n",
       "<style scoped>\n",
       "    .dataframe tbody tr th:only-of-type {\n",
       "        vertical-align: middle;\n",
       "    }\n",
       "\n",
       "    .dataframe tbody tr th {\n",
       "        vertical-align: top;\n",
       "    }\n",
       "\n",
       "    .dataframe thead th {\n",
       "        text-align: right;\n",
       "    }\n",
       "</style>\n",
       "<table border=\"1\" class=\"dataframe\">\n",
       "  <thead>\n",
       "    <tr style=\"text-align: right;\">\n",
       "      <th></th>\n",
       "      <th>Age</th>\n",
       "      <th>Salary</th>\n",
       "    </tr>\n",
       "  </thead>\n",
       "  <tbody>\n",
       "    <tr>\n",
       "      <th>count</th>\n",
       "      <td>30.000000</td>\n",
       "      <td>30.000000</td>\n",
       "    </tr>\n",
       "    <tr>\n",
       "      <th>mean</th>\n",
       "      <td>43.366667</td>\n",
       "      <td>64.406667</td>\n",
       "    </tr>\n",
       "    <tr>\n",
       "      <th>std</th>\n",
       "      <td>14.375466</td>\n",
       "      <td>26.202684</td>\n",
       "    </tr>\n",
       "    <tr>\n",
       "      <th>min</th>\n",
       "      <td>24.000000</td>\n",
       "      <td>16.800000</td>\n",
       "    </tr>\n",
       "    <tr>\n",
       "      <th>25%</th>\n",
       "      <td>30.500000</td>\n",
       "      <td>46.350000</td>\n",
       "    </tr>\n",
       "    <tr>\n",
       "      <th>50%</th>\n",
       "      <td>45.000000</td>\n",
       "      <td>62.100000</td>\n",
       "    </tr>\n",
       "    <tr>\n",
       "      <th>75%</th>\n",
       "      <td>55.000000</td>\n",
       "      <td>76.800000</td>\n",
       "    </tr>\n",
       "    <tr>\n",
       "      <th>max</th>\n",
       "      <td>65.000000</td>\n",
       "      <td>118.000000</td>\n",
       "    </tr>\n",
       "  </tbody>\n",
       "</table>\n",
       "</div>"
      ],
      "text/plain": [
       "             Age      Salary\n",
       "count  30.000000   30.000000\n",
       "mean   43.366667   64.406667\n",
       "std    14.375466   26.202684\n",
       "min    24.000000   16.800000\n",
       "25%    30.500000   46.350000\n",
       "50%    45.000000   62.100000\n",
       "75%    55.000000   76.800000\n",
       "max    65.000000  118.000000"
      ]
     },
     "execution_count": 3,
     "metadata": {},
     "output_type": "execute_result"
    }
   ],
   "source": [
    "income.describe()"
   ]
  },
  {
   "cell_type": "code",
   "execution_count": 4,
   "id": "7239372b",
   "metadata": {},
   "outputs": [],
   "source": [
    "%matplotlib inline\n",
    "from matplotlib import pyplot as plt\n",
    "import seaborn as sns"
   ]
  },
  {
   "cell_type": "code",
   "execution_count": 5,
   "id": "dea4cbed",
   "metadata": {
    "scrolled": true
   },
   "outputs": [
    {
     "data": {
      "image/png": "[encoded data removed]",
      "text/plain": [
       "<Figure size 640x480 with 1 Axes>"
      ]
     },
     "metadata": {},
     "output_type": "display_data"
    }
   ],
   "source": [
    "ax = sns.boxplot(data = income, x = 'Education', y = 'Salary')"
   ]
  },
  {
   "cell_type": "code",
   "execution_count": 6,
   "id": "95bde296",
   "metadata": {
    "scrolled": true
   },
   "outputs": [
    {
     "data": {
      "image/png": "[encoded data removed]",
      "text/plain": [
       "<Figure size 640x480 with 1 Axes>"
      ]
     },
     "metadata": {},
     "output_type": "display_data"
    }
   ],
   "source": [
    "ax = sns.boxplot(data = income, x = 'Education', y = 'Age')"
   ]
  },
  {
   "cell_type": "code",
   "execution_count": 7,
   "id": "8633144d",
   "metadata": {
    "scrolled": true
   },
   "outputs": [
    {
     "data": {
      "image/png": "[encoded data removed]",
      "text/plain": [
       "<Figure size 640x480 with 1 Axes>"
      ]
     },
     "metadata": {},
     "output_type": "display_data"
    }
   ],
   "source": [
    "ax = sns.scatterplot(data = income, \n",
    "                     x = 'Age', \n",
    "                     y = 'Salary', \n",
    "                     hue = 'Education', \n",
    "                     style = 'Education', \n",
    "                     s = 150)\n",
    "ax = plt.legend(bbox_to_anchor = (1.02, 1), loc = 'upper left')"
   ]
  },
  {
   "cell_type": "markdown",
   "id": "d6d214f4",
   "metadata": {},
   "source": [
    "## 3. Prepare the Data"
   ]
  },
  {
   "cell_type": "code",
   "execution_count": 8,
   "id": "a570e61b",
   "metadata": {
    "scrolled": false
   },
   "outputs": [],
   "source": [
    "y = income[['Salary']]"
   ]
  },
  {
   "cell_type": "code",
   "execution_count": 9,
   "id": "1fda732e",
   "metadata": {
    "scrolled": false
   },
   "outputs": [],
   "source": [
    "X = income[['Age', 'Education']]"
   ]
  },
  {
   "cell_type": "code",
   "execution_count": 10,
   "id": "346cdb9d",
   "metadata": {},
   "outputs": [],
   "source": [
    "from sklearn.model_selection import train_test_split\n",
    "X_train, X_test, y_train, y_test = train_test_split(X, y,\n",
    "                                                    train_size = 0.6,\n",
    "                                                    stratify = X['Education'],\n",
    "                                                    random_state = 1234) "
   ]
  },
  {
   "cell_type": "code",
   "execution_count": 11,
   "id": "66162c9a",
   "metadata": {},
   "outputs": [
    {
     "data": {
      "text/plain": [
       "((18, 2), (12, 2))"
      ]
     },
     "execution_count": 11,
     "metadata": {},
     "output_type": "execute_result"
    }
   ],
   "source": [
    "X_train.shape, X_test.shape"
   ]
  },
  {
   "cell_type": "code",
   "execution_count": 12,
   "id": "867e9e10",
   "metadata": {},
   "outputs": [
    {
     "data": {
      "text/html": [
       "<div>\n",
       "<style scoped>\n",
       "    .dataframe tbody tr th:only-of-type {\n",
       "        vertical-align: middle;\n",
       "    }\n",
       "\n",
       "    .dataframe tbody tr th {\n",
       "        vertical-align: top;\n",
       "    }\n",
       "\n",
       "    .dataframe thead th {\n",
       "        text-align: right;\n",
       "    }\n",
       "</style>\n",
       "<table border=\"1\" class=\"dataframe\">\n",
       "  <thead>\n",
       "    <tr style=\"text-align: right;\">\n",
       "      <th></th>\n",
       "      <th>Age</th>\n",
       "      <th>Education</th>\n",
       "    </tr>\n",
       "  </thead>\n",
       "  <tbody>\n",
       "    <tr>\n",
       "      <th>0</th>\n",
       "      <td>25</td>\n",
       "      <td>Bachelors</td>\n",
       "    </tr>\n",
       "    <tr>\n",
       "      <th>16</th>\n",
       "      <td>45</td>\n",
       "      <td>Masters</td>\n",
       "    </tr>\n",
       "    <tr>\n",
       "      <th>17</th>\n",
       "      <td>65</td>\n",
       "      <td>Masters</td>\n",
       "    </tr>\n",
       "    <tr>\n",
       "      <th>29</th>\n",
       "      <td>65</td>\n",
       "      <td>Professional</td>\n",
       "    </tr>\n",
       "    <tr>\n",
       "      <th>8</th>\n",
       "      <td>25</td>\n",
       "      <td>Diploma</td>\n",
       "    </tr>\n",
       "  </tbody>\n",
       "</table>\n",
       "</div>"
      ],
      "text/plain": [
       "    Age     Education\n",
       "0    25     Bachelors\n",
       "16   45       Masters\n",
       "17   65       Masters\n",
       "29   65  Professional\n",
       "8    25       Diploma"
      ]
     },
     "execution_count": 12,
     "metadata": {},
     "output_type": "execute_result"
    }
   ],
   "source": [
    "X_train.head()"
   ]
  },
  {
   "cell_type": "code",
   "execution_count": null,
   "id": "dd014435",
   "metadata": {
    "scrolled": false
   },
   "outputs": [
    {
     "data": {
      "text/html": [
       "<div>\n",
       "<style scoped>\n",
       "    .dataframe tbody tr th:only-of-type {\n",
       "        vertical-align: middle;\n",
       "    }\n",
       "\n",
       "    .dataframe tbody tr th {\n",
       "        vertical-align: top;\n",
       "    }\n",
       "\n",
       "    .dataframe thead th {\n",
       "        text-align: right;\n",
       "    }\n",
       "</style>\n",
       "<table border=\"1\" class=\"dataframe\">\n",
       "  <thead>\n",
       "    <tr style=\"text-align: right;\">\n",
       "      <th></th>\n",
       "      <th>Age</th>\n",
       "      <th>Education_Bachelors</th>\n",
       "      <th>Education_Diploma</th>\n",
       "      <th>Education_Doctorate</th>\n",
       "      <th>Education_Masters</th>\n",
       "      <th>Education_Professional</th>\n",
       "    </tr>\n",
       "  </thead>\n",
       "  <tbody>\n",
       "    <tr>\n",
       "      <th>0</th>\n",
       "      <td>25</td>\n",
       "      <td>True</td>\n",
       "      <td>False</td>\n",
       "      <td>False</td>\n",
       "      <td>False</td>\n",
       "      <td>False</td>\n",
       "    </tr>\n",
       "    <tr>\n",
       "      <th>16</th>\n",
       "      <td>45</td>\n",
       "      <td>False</td>\n",
       "      <td>False</td>\n",
       "      <td>False</td>\n",
       "      <td>True</td>\n",
       "      <td>False</td>\n",
       "    </tr>\n",
       "    <tr>\n",
       "      <th>17</th>\n",
       "      <td>65</td>\n",
       "      <td>False</td>\n",
       "      <td>False</td>\n",
       "      <td>False</td>\n",
       "      <td>True</td>\n",
       "      <td>False</td>\n",
       "    </tr>\n",
       "    <tr>\n",
       "      <th>29</th>\n",
       "      <td>65</td>\n",
       "      <td>False</td>\n",
       "      <td>False</td>\n",
       "      <td>False</td>\n",
       "      <td>False</td>\n",
       "      <td>True</td>\n",
       "    </tr>\n",
       "    <tr>\n",
       "      <th>8</th>\n",
       "      <td>25</td>\n",
       "      <td>False</td>\n",
       "      <td>True</td>\n",
       "      <td>False</td>\n",
       "      <td>False</td>\n",
       "      <td>False</td>\n",
       "    </tr>\n",
       "  </tbody>\n",
       "</table>\n",
       "</div>"
      ],
      "text/plain": [
       "    Age  Education_Bachelors  Education_Diploma  Education_Doctorate  \\\n",
       "0    25                 True              False                False   \n",
       "16   45                False              False                False   \n",
       "17   65                False              False                False   \n",
       "29   65                False              False                False   \n",
       "8    25                False               True                False   \n",
       "\n",
       "    Education_Masters  Education_Professional  \n",
       "0               False                   False  \n",
       "16               True                   False  \n",
       "17               True                   False  \n",
       "29              False                    True  \n",
       "8               False                   False  "
      ]
     },
     "execution_count": 13,
     "metadata": {},
     "output_type": "execute_result"
    }
   ],
   "source": [
    "# since text as value can not be interpreted we need to convert it to some sort of number or bool value\n",
    "X_train = pd.get_dummies(X_train)\n",
    "X_train.head()"
   ]
  },
  {
   "cell_type": "code",
   "execution_count": 14,
   "id": "ebd1cb79",
   "metadata": {},
   "outputs": [
    {
     "data": {
      "text/html": [
       "<div>\n",
       "<style scoped>\n",
       "    .dataframe tbody tr th:only-of-type {\n",
       "        vertical-align: middle;\n",
       "    }\n",
       "\n",
       "    .dataframe tbody tr th {\n",
       "        vertical-align: top;\n",
       "    }\n",
       "\n",
       "    .dataframe thead th {\n",
       "        text-align: right;\n",
       "    }\n",
       "</style>\n",
       "<table border=\"1\" class=\"dataframe\">\n",
       "  <thead>\n",
       "    <tr style=\"text-align: right;\">\n",
       "      <th></th>\n",
       "      <th>Age</th>\n",
       "      <th>Education_Bachelors</th>\n",
       "      <th>Education_Diploma</th>\n",
       "      <th>Education_Doctorate</th>\n",
       "      <th>Education_Masters</th>\n",
       "      <th>Education_Professional</th>\n",
       "    </tr>\n",
       "  </thead>\n",
       "  <tbody>\n",
       "    <tr>\n",
       "      <th>9</th>\n",
       "      <td>30</td>\n",
       "      <td>False</td>\n",
       "      <td>True</td>\n",
       "      <td>False</td>\n",
       "      <td>False</td>\n",
       "      <td>False</td>\n",
       "    </tr>\n",
       "    <tr>\n",
       "      <th>21</th>\n",
       "      <td>25</td>\n",
       "      <td>False</td>\n",
       "      <td>False</td>\n",
       "      <td>False</td>\n",
       "      <td>True</td>\n",
       "      <td>False</td>\n",
       "    </tr>\n",
       "    <tr>\n",
       "      <th>4</th>\n",
       "      <td>65</td>\n",
       "      <td>True</td>\n",
       "      <td>False</td>\n",
       "      <td>False</td>\n",
       "      <td>False</td>\n",
       "      <td>False</td>\n",
       "    </tr>\n",
       "    <tr>\n",
       "      <th>10</th>\n",
       "      <td>35</td>\n",
       "      <td>False</td>\n",
       "      <td>True</td>\n",
       "      <td>False</td>\n",
       "      <td>False</td>\n",
       "      <td>False</td>\n",
       "    </tr>\n",
       "    <tr>\n",
       "      <th>7</th>\n",
       "      <td>65</td>\n",
       "      <td>False</td>\n",
       "      <td>False</td>\n",
       "      <td>True</td>\n",
       "      <td>False</td>\n",
       "      <td>False</td>\n",
       "    </tr>\n",
       "  </tbody>\n",
       "</table>\n",
       "</div>"
      ],
      "text/plain": [
       "    Age  Education_Bachelors  Education_Diploma  Education_Doctorate  \\\n",
       "9    30                False               True                False   \n",
       "21   25                False              False                False   \n",
       "4    65                 True              False                False   \n",
       "10   35                False               True                False   \n",
       "7    65                False              False                 True   \n",
       "\n",
       "    Education_Masters  Education_Professional  \n",
       "9               False                   False  \n",
       "21               True                   False  \n",
       "4               False                   False  \n",
       "10              False                   False  \n",
       "7               False                   False  "
      ]
     },
     "execution_count": 14,
     "metadata": {},
     "output_type": "execute_result"
    }
   ],
   "source": [
    "X_test = pd.get_dummies(X_test)\n",
    "X_test.head()"
   ]
  },
  {
   "cell_type": "markdown",
   "id": "7e67d2b0",
   "metadata": {},
   "source": [
    "## 4. Train and Evaluate the Regression Tree"
   ]
  },
  {
   "cell_type": "code",
   "execution_count": 15,
   "id": "27175a5e",
   "metadata": {},
   "outputs": [],
   "source": [
    "from sklearn.tree import DecisionTreeRegressor\n",
    "regressor = DecisionTreeRegressor(random_state = 1234)"
   ]
  },
  {
   "cell_type": "code",
   "execution_count": 16,
   "id": "eafcb43f",
   "metadata": {},
   "outputs": [],
   "source": [
    "model = regressor.fit(X_train, y_train)"
   ]
  },
  {
   "cell_type": "code",
   "execution_count": 17,
   "id": "20fa1a33",
   "metadata": {
    "scrolled": false
   },
   "outputs": [
    {
     "data": {
      "text/plain": [
       "0.5853149222529794"
      ]
     },
     "execution_count": 17,
     "metadata": {},
     "output_type": "execute_result"
    }
   ],
   "source": [
    "model.score(X_test, y_test)"
   ]
  },
  {
   "cell_type": "code",
   "execution_count": 18,
   "id": "5c0fde02",
   "metadata": {},
   "outputs": [],
   "source": [
    "y_test_pred = model.predict(X_test)"
   ]
  },
  {
   "cell_type": "code",
   "execution_count": 19,
   "id": "8b85e7c9",
   "metadata": {},
   "outputs": [
    {
     "data": {
      "text/plain": [
       "13.541666666666666"
      ]
     },
     "execution_count": 19,
     "metadata": {},
     "output_type": "execute_result"
    }
   ],
   "source": [
    "from sklearn.metrics import mean_absolute_error\n",
    "mean_absolute_error(y_test, y_test_pred)"
   ]
  },
  {
   "cell_type": "markdown",
   "id": "427b2a5e",
   "metadata": {},
   "source": [
    "## 5. Visualize the Regression Tree"
   ]
  },
  {
   "cell_type": "code",
   "execution_count": null,
   "id": "964ecd4e",
   "metadata": {},
   "outputs": [],
   "source": [
    "from sklearn import tree\n",
    "plt.figure(figsize = (15,15))\n",
    "tree.plot_tree();"
   ]
  },
  {
   "cell_type": "code",
   "execution_count": null,
   "id": "f579ab32",
   "metadata": {},
   "outputs": [],
   "source": [
    "plt.figure(figsize = (15,15))\n",
    "tree.plot_tree();"
   ]
  },
  {
   "cell_type": "code",
   "execution_count": null,
   "id": "af1ec155",
   "metadata": {},
   "outputs": [],
   "source": [
    "importance\n",
    "importance"
   ]
  },
  {
   "cell_type": "code",
   "execution_count": null,
   "id": "dd408a5a",
   "metadata": {},
   "outputs": [],
   "source": [
    "feature_importance = pd.Series(importance, index = X_train.columns)\n",
    "feature_importance.sort_values().plot(kind = 'bar')\n",
    "plt.ylabel('Importance');"
   ]
  },
  {
   "cell_type": "markdown",
   "id": "e01f8ee5",
   "metadata": {},
   "source": [
    "## 6. Prune the Regression Tree"
   ]
  },
  {
   "cell_type": "code",
   "execution_count": null,
   "id": "60d416d8",
   "metadata": {},
   "outputs": [],
   "source": [
    "model"
   ]
  },
  {
   "cell_type": "code",
   "execution_count": null,
   "id": "be92d4b9",
   "metadata": {},
   "outputs": [],
   "source": [
    "model"
   ]
  },
  {
   "cell_type": "markdown",
   "id": "1f072e32",
   "metadata": {},
   "source": [
    "Let's get the list of effective alphas for the training data."
   ]
  },
  {
   "cell_type": "code",
   "execution_count": null,
   "id": "f2869785",
   "metadata": {},
   "outputs": [],
   "source": [
    "path = regressor.cost_complexity_pruning_path(X_train, y_train)\n",
    "ccp_alphas\n",
    "list(ccp_alphas)"
   ]
  },
  {
   "cell_type": "markdown",
   "id": "6595dad1",
   "metadata": {},
   "source": [
    "We remove the maximum effective alpha because it is the trivial tree with just one node."
   ]
  },
  {
   "cell_type": "code",
   "execution_count": null,
   "id": "d3a7b386",
   "metadata": {},
   "outputs": [],
   "source": [
    "ccp_alphas\n",
    "list(ccp_alphas)"
   ]
  },
  {
   "cell_type": "markdown",
   "id": "4fd03c6f",
   "metadata": {},
   "source": [
    "Next, we train several trees using the different values for alpha."
   ]
  },
  {
   "cell_type": "code",
   "execution_count": null,
   "id": "0acf0ae7",
   "metadata": {},
   "outputs": [],
   "source": [
    "train_scores, test_scores = [], []\n",
    "for alpha in ccp_alphas:\n",
    "    regressor_ = DecisionTreeRegressor(random_state = 1234, ccp_alpha = alpha)\n",
    "    model_ = regressor_.fit(X_train, y_train)\n",
    "    train_scores.append(model_.score(X_train, y_train))\n",
    "    test_scores.append(model_.score(X_test, y_test))"
   ]
  },
  {
   "cell_type": "code",
   "execution_count": null,
   "id": "cb9ff58d",
   "metadata": {
    "scrolled": false
   },
   "outputs": [],
   "source": [
    "plt.plot(ccp_alphas, \n",
    "         train_scores, \n",
    "         marker = \"o\", \n",
    "         label = 'train_score', \n",
    "         drawstyle = \"steps-post\")\n",
    "plt.plot(ccp_alphas, \n",
    "         test_scores, \n",
    "         marker = \"o\", \n",
    "         label = 'test_score', \n",
    "         drawstyle = \"steps-post\")\n",
    "plt.legend()\n",
    "plt.title('R-squared by alpha');"
   ]
  },
  {
   "cell_type": "code",
   "execution_count": null,
   "id": "e1701fb5",
   "metadata": {
    "scrolled": false
   },
   "outputs": [],
   "source": [
    "test_scores"
   ]
  },
  {
   "cell_type": "code",
   "execution_count": null,
   "id": "8d9a9d5d",
   "metadata": {},
   "outputs": [],
   "source": [
    "ix = test_scores.index(max(test_scores))\n",
    "best_alpha\n",
    "best_alpha"
   ]
  },
  {
   "cell_type": "code",
   "execution_count": null,
   "id": "f9287b3e",
   "metadata": {},
   "outputs": [],
   "source": [
    "regressor_ = DecisionTreeRegressor(random_state = 1234, ccp_alpha = best_alpha)\n",
    "model_ = regressor_.fit(X_train, y_train)"
   ]
  },
  {
   "cell_type": "code",
   "execution_count": null,
   "id": "38dbea46",
   "metadata": {},
   "outputs": [],
   "source": [
    "model_.score(X_train, y_train)"
   ]
  },
  {
   "cell_type": "code",
   "execution_count": null,
   "id": "287cc8cf",
   "metadata": {},
   "outputs": [],
   "source": [
    "model_.score(X_test, y_test)"
   ]
  },
  {
   "cell_type": "code",
   "execution_count": null,
   "id": "a872044a",
   "metadata": {},
   "outputs": [],
   "source": [
    "plt.figure(figsize = (15,15))\n",
    "tree.plot_tree(model_, \n",
    "                   feature_names = list(X_train.columns),\n",
    "                   filled = True);"
   ]
  }
 ],
 "metadata": {
  "kernelspec": {
   "display_name": "mlv",
   "language": "python",
   "name": "python3"
  },
  "language_info": {
   "codemirror_mode": {
    "name": "ipython",
    "version": 3
   },
   "file_extension": ".py",
   "mimetype": "text/x-python",
   "name": "python",
   "nbconvert_exporter": "python",
   "pygments_lexer": "ipython3",
   "version": "3.10.12"
  }
 },
 "nbformat": 4,
 "nbformat_minor": 5
}
